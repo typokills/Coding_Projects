{
 "cells": [
  {
   "cell_type": "markdown",
   "metadata": {},
   "source": [
    "## Printing integers with spaces"
   ]
  },
  {
   "cell_type": "code",
   "execution_count": 7,
   "metadata": {},
   "outputs": [
    {
     "name": "stdout",
     "output_type": "stream",
     "text": [
      "1 2 3 4 5 6 7 8 9 "
     ]
    }
   ],
   "source": [
    "for each in [1,2,3,4,5,6,7,8,9]: \n",
    "    print(each, end=' ') \n",
    " \n",
    "list1 = [1,2,3,4,5,6,7,8,9] \n",
    "# print(*list1) "
   ]
  },
  {
   "cell_type": "code",
   "execution_count": 8,
   "metadata": {},
   "outputs": [
    {
     "data": {
      "text/plain": [
       "'example'"
      ]
     },
     "execution_count": 8,
     "metadata": {},
     "output_type": "execute_result"
    }
   ],
   "source": [
    "'   spacious   '.strip()\n",
    "# 'spacious'\n",
    "\"AABAA\".strip(\"A\")\n",
    "# 'B'\n",
    "\"ABBA\".strip(\"AB\")\n",
    "# ''\n",
    "\"ABCABBA\".strip(\"AB\")\n",
    "# 'C'\n",
    "'www.example.com'.strip('cmowz.') # this example extracts web address\n",
    "# 'example'"
   ]
  },
  {
   "cell_type": "markdown",
   "metadata": {},
   "source": [
    "# How to make python run faster"
   ]
  },
  {
   "cell_type": "code",
   "execution_count": 9,
   "metadata": {},
   "outputs": [],
   "source": [
    "# Use built-in functions\n",
    "\n",
    "wordlist = ['hi','bye']\n",
    "newlist = []\n",
    "\n",
    "for word in wordlist:\n",
    "    newlist.append(word.upper())\n",
    "    \n",
    "\n",
    "newlist = map(str.upper, wordlist)"
   ]
  },
  {
   "cell_type": "code",
   "execution_count": 10,
   "metadata": {},
   "outputs": [],
   "source": [
    "# Use List comprehension instead of loops\n",
    "\n",
    "newlist = []\n",
    "for i in range(1, 100):\n",
    "    if i % 2 == 0:\n",
    "        newlist.append(i**2)\n",
    "\n",
    "# Faster\n",
    "newlist = [i**2 for i in range(1, 100) if i%2==0]"
   ]
  },
  {
   "cell_type": "code",
   "execution_count": 11,
   "metadata": {},
   "outputs": [
    {
     "name": "stdout",
     "output_type": "stream",
     "text": [
      "Import all: 4.1799999998204385e-05\n",
      "Import some: 5.390000000105033e-05\n",
      "% Diff: -28.947368429104614\n"
     ]
    }
   ],
   "source": [
    "# Only import from modules and libraries what you need.\n",
    "import math\n",
    "from math import sqrt\n",
    "import time\n",
    "\n",
    "start_time = time.perf_counter()\n",
    "value = math.sqrt(50)\n",
    "end_time = time.perf_counter()\n",
    "all_time = end_time - start_time\n",
    "\n",
    "print(\"Import all: \" + str(end_time - start_time))\n",
    "\n",
    "#Faster\n",
    "\n",
    "start_time = time.perf_counter()\n",
    "value = sqrt(50)\n",
    "end_time = time.perf_counter()\n",
    "some_time = end_time - start_time\n",
    "print(\"Import some: \" + str(end_time - start_time))\n",
    "print(\"% Diff: \" + str((all_time - some_time) / all_time * 100))"
   ]
  },
  {
   "cell_type": "code",
   "execution_count": 12,
   "metadata": {},
   "outputs": [],
   "source": [
    "# Use Join instead of + for string concatenation\n",
    "\n",
    "output = \"Programming\" + \"is\" + \"fun\"\n",
    "\n",
    "output = \" \".join([\"Programming\" , \"is\", \"fun\"])"
   ]
  },
  {
   "cell_type": "markdown",
   "metadata": {},
   "source": [
    "# Python Timer"
   ]
  },
  {
   "cell_type": "code",
   "execution_count": 13,
   "metadata": {},
   "outputs": [
    {
     "name": "stdout",
     "output_type": "stream",
     "text": [
      "4.299999999801685e-05\n"
     ]
    }
   ],
   "source": [
    "import time\n",
    "\n",
    "start_time = time.perf_counter()\n",
    "end_time = time.perf_counter()\n",
    "time_taken = end_time - start_time\n",
    "print(time_taken)"
   ]
  },
  {
   "cell_type": "code",
   "execution_count": 14,
   "metadata": {},
   "outputs": [
    {
     "name": "stdout",
     "output_type": "stream",
     "text": [
      "Elapsed time: 2.0036 seconds\n"
     ]
    }
   ],
   "source": [
    "#Timer Class\n",
    "\n",
    "import time\n",
    "\n",
    "class TimerError(Exception): #Inherits from the Exception Class to create a custom error\n",
    "    \"\"\"A custom exception used to report errors in use of Timer class\"\"\"\n",
    "\n",
    "class Timer:\n",
    "    def __init__(self, text=\"Elapsed time: {:0.4f} seconds\"): \n",
    "        #text is given as a string as f-strings evaluate immediately, and when you instantiate Timer, your code hasn’t yet calculated the elapsed time.\n",
    "        #text output can be edited now with t = Timer(text=\"You waited {:.1f} seconds\")\n",
    "        \n",
    "        #Instance variables\n",
    "        self._start_time = None\n",
    "        self.text = text\n",
    "\n",
    "    def start(self):\n",
    "        \"\"\"Start a new timer\"\"\"\n",
    "        if self._start_time is not None:\n",
    "            raise TimerError(f\"Timer is running. Use .stop() to stop it\")\n",
    "\n",
    "        self._start_time = time.perf_counter() \n",
    "        #Note: The underscore (_) prefix of ._start_time is a Python convention. \n",
    "        #It signals that ._start_time is an internal attribute that users of the Timer class shouldn’t manipulate.\n",
    "\n",
    "    def stop(self):\n",
    "        \"\"\"Stop the timer, and report the elapsed time\"\"\"\n",
    "        if self._start_time is None:\n",
    "            raise TimerError(f\"Timer is not running. Use .start() to start it\")\n",
    "\n",
    "        elapsed_time = time.perf_counter() - self._start_time\n",
    "        self._start_time = None\n",
    "        print(self.text.format(elapsed_time))\n",
    "\n",
    "t = Timer()\n",
    "t.start()\n",
    "time.sleep(2)\n",
    "t.stop()"
   ]
  },
  {
   "cell_type": "code",
   "execution_count": null,
   "metadata": {},
   "outputs": [],
   "source": []
  },
  {
   "cell_type": "markdown",
   "metadata": {},
   "source": [
    "# Inserting numbers into strings"
   ]
  },
  {
   "cell_type": "code",
   "execution_count": 15,
   "metadata": {},
   "outputs": [
    {
     "name": "stdout",
     "output_type": "stream",
     "text": [
      "Downloaded the tutorial in -0.0000 seconds\n"
     ]
    }
   ],
   "source": [
    "print(f\"Downloaded the tutorial in {start_time - end_time:0.4f} seconds\")"
   ]
  },
  {
   "cell_type": "markdown",
   "metadata": {},
   "source": [
    "# Object Oriented Programming"
   ]
  },
  {
   "cell_type": "code",
   "execution_count": 16,
   "metadata": {},
   "outputs": [
    {
     "name": "stdout",
     "output_type": "stream",
     "text": [
      "Miles is 4 years old\n"
     ]
    }
   ],
   "source": [
    "class Dog:\n",
    "    species = \"Canis familiaris\"\n",
    "\n",
    "    def __init__(self, name, age):\n",
    "        self.name = name\n",
    "        self.age = age\n",
    "\n",
    "#     # Instance method\n",
    "#     def description(self):\n",
    "#         return f\"{self.name} is {self.age} years old\"\n",
    "\n",
    "    # Another instance method\n",
    "    def speak(self, sound):\n",
    "        return f\"{self.name} says {sound}\"\n",
    "    \n",
    "    def __str__(self): #Creates description for class to call using ?\n",
    "        return f\"{self.name} is {self.age} years old\"\n",
    "    \n",
    "miles = Dog(\"Miles\", 4)\n",
    "print(miles)"
   ]
  },
  {
   "cell_type": "markdown",
   "metadata": {},
   "source": [
    "# Dictionaries"
   ]
  },
  {
   "cell_type": "code",
   "execution_count": 17,
   "metadata": {},
   "outputs": [],
   "source": [
    "#Defining Dicts\n",
    "squares = {x: x * x for x in range(6)}\n",
    "phonebook = {\n",
    "\"bob\": 7387,\n",
    "\"alice\": 3719,\n",
    "\"jack\": 7052,\n",
    "}"
   ]
  },
  {
   "cell_type": "markdown",
   "metadata": {},
   "source": [
    "# defaultdict\n",
    "The defaultdict class is another dictionary subclass that accepts a callable in its constructor whose return value will be used if a requested key cannot be found.\n",
    "\n",
    "This can save you some typing and make your intentions clearer as compared to using get() or catching a KeyError exception in regular dictionaries"
   ]
  },
  {
   "cell_type": "code",
   "execution_count": 18,
   "metadata": {},
   "outputs": [
    {
     "data": {
      "text/plain": [
       "['Rufus', 'Kathrin', 'Mr Sniffles']"
      ]
     },
     "execution_count": 18,
     "metadata": {},
     "output_type": "execute_result"
    }
   ],
   "source": [
    "from collections import defaultdict\n",
    "dd = defaultdict(list)\n",
    "\n",
    "# Accessing a missing key creates it and\n",
    "# initializes it using the default factory,\n",
    "# i.e. list() in this example:\n",
    "dd[\"dogs\"].append(\"Rufus\")\n",
    "dd[\"dogs\"].append(\"Kathrin\")\n",
    "dd[\"dogs\"].append(\"Mr Sniffles\")\n",
    "\n",
    "dd[\"dogs\"]"
   ]
  },
  {
   "cell_type": "markdown",
   "metadata": {},
   "source": [
    "# ChainMap\n",
    "The collections.ChainMap data structure groups multiple dictionaries into a single mapping. Lookups search the underlying mappings one by one until a key is found. Insertions, updates, and deletions only affect the first mapping added to the chain"
   ]
  },
  {
   "cell_type": "code",
   "execution_count": 19,
   "metadata": {},
   "outputs": [
    {
     "name": "stdout",
     "output_type": "stream",
     "text": [
      "ChainMap({'one': 1, 'two': 2}, {'three': 3, 'four': 4})\n",
      "3\n",
      "1\n"
     ]
    }
   ],
   "source": [
    "from collections import ChainMap\n",
    "dict1 = {\"one\": 1, \"two\": 2}\n",
    "dict2 = {\"three\": 3, \"four\": 4}\n",
    "chain = ChainMap(dict1, dict2)\n",
    "\n",
    "print(chain)\n",
    "# ChainMap searches each collection in the chain\n",
    "# from left to right until it finds the key (or fails):\n",
    "print(chain[\"three\"])\n",
    "print(chain[\"one\"])\n",
    "# print(chain[\"missing\"])"
   ]
  },
  {
   "cell_type": "markdown",
   "metadata": {},
   "source": [
    "# MappingProxyType\n",
    "Immutable Dictionary\n",
    "\n",
    "Can be helpful if, for example, you’d like to return a dictionary carrying internal state from a class or module while discouraging write access to this object. \n",
    "\n",
    "Using MappingProxyType allows you to put these restrictions in place without first having to create a full copy of the dictionary"
   ]
  },
  {
   "cell_type": "code",
   "execution_count": 20,
   "metadata": {},
   "outputs": [
    {
     "name": "stdout",
     "output_type": "stream",
     "text": [
      "1\n"
     ]
    }
   ],
   "source": [
    "from types import MappingProxyType\n",
    "writable = {\"one\": 1, \"two\": 2}\n",
    "read_only = MappingProxyType(writable)\n",
    "\n",
    "# The proxy is read-only:\n",
    "print(read_only[\"one\"])"
   ]
  },
  {
   "cell_type": "code",
   "execution_count": 21,
   "metadata": {},
   "outputs": [],
   "source": [
    "# read_only[\"one\"] = 23"
   ]
  },
  {
   "cell_type": "code",
   "execution_count": 22,
   "metadata": {},
   "outputs": [
    {
     "data": {
      "text/plain": [
       "mappingproxy({'one': 42, 'two': 2})"
      ]
     },
     "execution_count": 22,
     "metadata": {},
     "output_type": "execute_result"
    }
   ],
   "source": [
    "# Updates to the original are reflected in the proxy:\n",
    "writable[\"one\"] = 42\n",
    "read_only"
   ]
  },
  {
   "cell_type": "markdown",
   "metadata": {},
   "source": [
    "# Data Structures"
   ]
  },
  {
   "cell_type": "markdown",
   "metadata": {},
   "source": [
    "## Tuple"
   ]
  },
  {
   "cell_type": "code",
   "execution_count": 6,
   "metadata": {},
   "outputs": [
    {
     "name": "stdout",
     "output_type": "stream",
     "text": [
      "a=1, b=2, c=3\n",
      "a=4, b=5, c=6\n",
      "a=7, b=8, c=9\n",
      "3 4 5\n"
     ]
    },
    {
     "data": {
      "text/plain": [
       "4"
      ]
     },
     "execution_count": 6,
     "metadata": {},
     "output_type": "execute_result"
    }
   ],
   "source": [
    "tup = 4, 5, 6\n",
    "nested_tup = (4, 5, 6), (7, 8)\n",
    "tup = tuple('string')\n",
    "tup = tuple(['foo', [1, 2], True]) #mutable obj stored in tuples become immutable\n",
    "tup[1].append(3) # However things within mutable elements are still mutable. []\n",
    "(4, None, 'foo') + (6, 0) + ('bar',) #concat with +\n",
    "('foo', 'bar') * 4\n",
    "a, b, c = tup #multi assignment\n",
    "\n",
    "a, b = 1, 2\n",
    "b, a = a, b #Swapping\n",
    "\n",
    "seq = [(1, 2, 3), (4, 5, 6), (7, 8, 9)]\n",
    "for a, b, c in seq:\n",
    "    print('a={0}, b={1}, c={2}'.format(a, b, c))\n",
    "\n",
    "values = 1, 2, 3, 4, 5\n",
    "a, b, *rest = values\n",
    "print(*rest)\n",
    "\n",
    "a, b, *_ = values # *_ for unwanted values\n",
    "\n",
    "a = (1, 2, 2, 2, 3, 4, 2)\n",
    "a.count(2)"
   ]
  },
  {
   "cell_type": "markdown",
   "metadata": {},
   "source": [
    "## List"
   ]
  },
  {
   "cell_type": "code",
   "execution_count": 19,
   "metadata": {},
   "outputs": [
    {
     "name": "stdout",
     "output_type": "stream",
     "text": [
      "[0, 1, 2, 3, 4, 5, 6, 7, 8, 9]\n",
      "[4, None, 'foo', 7, 8, (2, 3)]\n",
      "[4, None, 'foo', 7, 8, (2, 3)]\n",
      "None\n",
      "None\n",
      "4\n",
      "None\n",
      "[0, 1, 2, 2, 3, 6, 7]\n",
      "[' ', 'a', 'c', 'e', 'e', 'h', 'o', 'r', 'r', 's']\n",
      "[('foo', 'one'), ('bar', 'two'), ('baz', 'three')]\n"
     ]
    }
   ],
   "source": [
    "b_list = list(('foo', 'bar', 'baz')) #tuple to list\n",
    "print(list(range(10))) #Range\n",
    "\n",
    "b_list.append('dwarf')\n",
    "b_list.insert(1, 'red') #pos & element, insert more expensive than append as more shifting required.\n",
    "\n",
    "b_list.pop(2)\n",
    "b_list.remove('dwarf') #removes the first value\n",
    "\n",
    "print([4, None, 'foo'] + [7, 8, (2, 3)]) #concat\n",
    "\n",
    "x = [4, None, 'foo']\n",
    "x.extend([7, 8, (2, 3)]) #adding multiple types of elements to existing list, expensive\n",
    "print(x) \n",
    "\n",
    "a = [7, 2, 5, 1, 3]\n",
    "print(a.sort())\n",
    "\n",
    "b = ['saw', 'small', 'He', 'foxes', 'six']\n",
    "print(b.sort(key=len))\n",
    "\n",
    "import bisect #implements binary search and insertion into a sorted list.\n",
    "c = [1, 2, 2, 2, 3, 4, 7]\n",
    "print(bisect.bisect(c, 2)) #finds the location where an element should be inserted to keep it sorted\n",
    "print(bisect.insort(c, 6)) #finds location and inserts\n",
    "\n",
    "# for i,value in enumerate(c):\n",
    "#     print(i)\n",
    "\n",
    "some_list = ['foo', 'bar', 'baz'] #using Enumerate to create mappings\n",
    "mapping = {}\n",
    "for i, v in enumerate(some_list):\n",
    "    mapping[v] = i\n",
    "\n",
    "print(sorted([7, 1, 2, 6, 0, 3, 2]))\n",
    "print(sorted('horse race'))\n",
    "\n",
    "seq1 = ['foo', 'bar', 'baz']\n",
    "seq2 = ['one', 'two', 'three']\n",
    "zipped = zip(seq1, seq2) #number of elements taken in depends on shortest\n",
    "print(list(zipped))"
   ]
  },
  {
   "cell_type": "code",
   "execution_count": 21,
   "metadata": {},
   "outputs": [
    {
     "name": "stdout",
     "output_type": "stream",
     "text": [
      "0: foo, one\n",
      "1: bar, two\n",
      "2: baz, three\n",
      "[9, 8, 7, 6, 5, 4, 3, 2, 1, 0]\n",
      "('Nolan', 'Roger', 'Schilling')\n",
      "('Ryan', 'Clemens', 'Curt')\n"
     ]
    }
   ],
   "source": [
    "for i, (a, b) in enumerate(zip(seq1, seq2)):\n",
    "    print('{0}: {1}, {2}'.format(i, a, b))\n",
    "\n",
    "print(list(reversed(range(10))))\n",
    "\n",
    "pitchers = [('Nolan', 'Ryan'), ('Roger', 'Clemens'),('Schilling', 'Curt')] #convert list of rows into columns\n",
    "first_names, last_names = zip(*pitchers)\n",
    "print(first_names)\n",
    "print(last_names)"
   ]
  },
  {
   "cell_type": "markdown",
   "metadata": {},
   "source": [
    "## Dictionaries"
   ]
  },
  {
   "cell_type": "code",
   "execution_count": 49,
   "metadata": {},
   "outputs": [
    {
     "name": "stdout",
     "output_type": "stream",
     "text": [
      "True\n",
      "{'a': 'some value', 'b': [1, 2, 3, 4], 'dummy': 'another value', 5: 'some value'}\n",
      "{'a': 'some value', 'b': [1, 2, 3, 4], 'dummy': 'another value'}\n",
      "another value\n",
      "{'a': 'some value', 'b': [1, 2, 3, 4]}\n",
      "['a', 'b']\n",
      "['some value', [1, 2, 3, 4]]\n",
      "{'a': 'some value', 'b': 'foo', 'c': 12}\n",
      "{0: 4, 1: 3, 2: 2, 3: 1, 4: 0}\n",
      "{'a': ['apple', 'atom'], 'b': ['bat', 'bar', 'book']}\n",
      "['apple', 'atom']\n",
      "default value if key missing\n",
      "-7527390285843405497\n",
      "{(1, 2, 3): 5}\n"
     ]
    }
   ],
   "source": [
    "d1 = {'a' : 'some value', 'b' : [1, 2, 3, 4]}\n",
    "print('b' in d1) #Check if key present\n",
    "\n",
    "d1['dummy'] = 'another value'\n",
    "\n",
    "d1[5]='some value'\n",
    "print(d1)\n",
    "del d1[5]\n",
    "print(d1)\n",
    "\n",
    "ret = d1.pop('dummy')\n",
    "print(ret)\n",
    "print(d1)\n",
    "\n",
    "print(list(d1.keys()))\n",
    "print(list(d1.values()))\n",
    "\n",
    "d1.update({'b' : 'foo', 'c' : 12}) #combining dicts\n",
    "print(d1)\n",
    "\n",
    "\n",
    "mapping = dict(zip(range(5), reversed(range(5)))) #Creating Dicts from sequences\n",
    "print(mapping)\n",
    "\n",
    "#Get key or return default values\n",
    "# value = some_dict.get(key, default_value) \n",
    "\n",
    "words = ['apple', 'bat', 'bar', 'atom', 'book']\n",
    "by_letter = {}\n",
    "for word in words:\n",
    "    letter = word[0]\n",
    "    by_letter.setdefault(letter, []).append(word)\n",
    "print(by_letter)\n",
    "\n",
    "print(by_letter.get('a','default value if key missing'))\n",
    "print(by_letter.get('c','default value if key missing'))\n",
    "\n",
    "#Keys of dict need to be hashable(immutable), check using hash function \n",
    "print(hash('string'))\n",
    "\n",
    "#print(hash([1,2,3])) #this will fail as lists are mutable\n",
    "#convert them to tuples\n",
    "d = {}\n",
    "d[tuple([1, 2, 3])] = 5\n",
    "print(d)"
   ]
  },
  {
   "cell_type": "markdown",
   "metadata": {},
   "source": [
    "## Set\n",
    "\n",
    "Dict but with only keys\n",
    "\n",
    "See table 3-1 for commonly used set methods"
   ]
  },
  {
   "cell_type": "code",
   "execution_count": 54,
   "metadata": {},
   "outputs": [
    {
     "name": "stdout",
     "output_type": "stream",
     "text": [
      "{1, 2, 3, 4, 5, 6, 7, 8}\n",
      "{1, 2, 3, 4, 5, 6, 7, 8}\n",
      "{3, 4, 5}\n",
      "{3, 4, 5}\n"
     ]
    }
   ],
   "source": [
    "set([2, 2, 2, 1, 3, 3])\n",
    "\n",
    "a = {1, 2, 3, 4, 5}\n",
    "b = {3, 4, 5, 6, 7, 8}\n",
    "\n",
    "print(a.union(b))\n",
    "print(a|b) #union, common elements between the 2\n",
    "\n",
    "#interesect\n",
    "print(a.intersection(b))\n",
    "print(a & b)\n",
    "\n",
    "# a.add(x) N/A Add element x to the set a\n",
    "# a.clear() N/A Reset the set a to an empty state, discarding all of\n",
    "# its elements\n",
    "# a.remove(x) N/A Remove element x from the set a\n",
    "# a.pop() N/A Remove an arbitrary element from the set a, raising\n",
    "# KeyError if the set is empty\n",
    "# a.union(b) a | b All of the unique elements in a and b\n",
    "# a.update(b) a |= b Set the contents of a to be the union of the\n",
    "# elements in a and b\n",
    "# a.intersection(b) a & b All of the elements in both a and b\n",
    "# a.intersection_update(b) a &= b Set the contents of a to be the intersection of the\n",
    "# elements in a and b\n",
    "# a.difference(b) a - b The elements in a that are not in b\n",
    "# a.difference_update(b) a -= b Set a to the elements in a that are not in b\n",
    "# a.symmetric_difference(b) a ^ b All of the elements in either a or b but not both\n",
    "# a.symmetric_difference_update(b) a ^= b Set a to contain the elements in either a or b but\n",
    "# not both\n",
    "# a.issubset(b) N/A True if the elements of a are all contained in b\n",
    "# a.issuperset(b) N/A True if the elements of b are all contained in a\n",
    "# a.isdisjoint(b) N/A True if a and b have no elements in common\n"
   ]
  },
  {
   "attachments": {},
   "cell_type": "markdown",
   "metadata": {},
   "source": [
    "## List,Set,Dict Comprehension\n",
    "They allow you to concisely form a new list by filtering the elements of a collection, transforming the elements passing the filter in one concise expression."
   ]
  },
  {
   "cell_type": "code",
   "execution_count": 57,
   "metadata": {},
   "outputs": [],
   "source": [
    "strings = ['a', 'as', 'bat', 'car', 'dove', 'python']\n",
    "[x.upper() for x in strings if len(x) > 2]"
   ]
  },
  {
   "cell_type": "code",
   "execution_count": 60,
   "metadata": {},
   "outputs": [
    {
     "data": {
      "text/plain": [
       "{'a': 0, 'as': 1, 'bat': 2, 'car': 3, 'dove': 4, 'python': 5}"
      ]
     },
     "execution_count": 60,
     "metadata": {},
     "output_type": "execute_result"
    }
   ],
   "source": [
    "#dict_comp = {key-expr : value-expr for value in collection if condition}\n",
    "loc_mapping = {val : index for index, val in enumerate(strings)}\n",
    "loc_mapping"
   ]
  },
  {
   "cell_type": "code",
   "execution_count": 63,
   "metadata": {},
   "outputs": [
    {
     "data": {
      "text/plain": [
       "{1, 2, 3, 4, 6}"
      ]
     },
     "execution_count": 63,
     "metadata": {},
     "output_type": "execute_result"
    }
   ],
   "source": [
    "#set_comp = {expr for value in collection if condition}\n",
    "unique_lengths = {len(x) for x in strings}\n",
    "unique_lengths"
   ]
  },
  {
   "cell_type": "code",
   "execution_count": 64,
   "metadata": {},
   "outputs": [
    {
     "data": {
      "text/plain": [
       "{1, 2, 3, 4, 6}"
      ]
     },
     "execution_count": 64,
     "metadata": {},
     "output_type": "execute_result"
    }
   ],
   "source": [
    "set(map(len, strings))"
   ]
  },
  {
   "cell_type": "code",
   "execution_count": 66,
   "metadata": {},
   "outputs": [
    {
     "data": {
      "text/plain": [
       "['Steven']"
      ]
     },
     "execution_count": 66,
     "metadata": {},
     "output_type": "execute_result"
    }
   ],
   "source": [
    "#Nested Lists\n",
    "all_data = [['John', 'Emily', 'Michael', 'Mary', 'Steven'],\n",
    "            ['Maria', 'Juan', 'Javier', 'Natalia', 'Pilar']]\n",
    "result = [name for names in all_data for name in names \n",
    "          if name.count('e') >= 2]\n",
    "result"
   ]
  },
  {
   "cell_type": "code",
   "execution_count": 67,
   "metadata": {},
   "outputs": [
    {
     "data": {
      "text/plain": [
       "[1, 2, 3, 4, 5, 6, 7, 8, 9]"
      ]
     },
     "execution_count": 67,
     "metadata": {},
     "output_type": "execute_result"
    }
   ],
   "source": [
    "some_tuples = [(1, 2, 3), (4, 5, 6), (7, 8, 9)]\n",
    "flattened = [x for tup in some_tuples for x in tup]\n",
    "flattened"
   ]
  },
  {
   "cell_type": "markdown",
   "metadata": {},
   "source": [
    "## Functions"
   ]
  },
  {
   "cell_type": "code",
   "execution_count": 74,
   "metadata": {},
   "outputs": [
    {
     "data": {
      "text/plain": [
       "['Alabama',\n",
       " 'Georgia',\n",
       " 'Georgia',\n",
       " 'Georgia',\n",
       " 'Florida',\n",
       " 'South Carolina',\n",
       " 'West Virginia']"
      ]
     },
     "execution_count": 74,
     "metadata": {},
     "output_type": "execute_result"
    }
   ],
   "source": [
    "#Cleaning dirty data\n",
    "import re\n",
    "def clean_strings(strings):\n",
    "    result = []\n",
    "    for value in strings:\n",
    "        value = value.strip() #remove front and back spaces or inside ()\n",
    "        value = re.sub('[!#?]', '', value) # replaces !?#\n",
    "        value = value.title() #First letter is capital\n",
    "        result.append(value)\n",
    "    return result\n",
    "\n",
    "states = [' Alabama ', 'Georgia!', 'Georgia', 'georgia', 'FlOrIda',\n",
    "          'south carolina##', 'West virginia?']\n",
    "clean_strings(states)"
   ]
  },
  {
   "cell_type": "code",
   "execution_count": 76,
   "metadata": {},
   "outputs": [
    {
     "data": {
      "text/plain": [
       "['Alabama',\n",
       " 'Georgia',\n",
       " 'Georgia',\n",
       " 'Georgia',\n",
       " 'Florida',\n",
       " 'South Carolina',\n",
       " 'West Virginia']"
      ]
     },
     "execution_count": 76,
     "metadata": {},
     "output_type": "execute_result"
    }
   ],
   "source": [
    "#Making a list of operations to apply in order, easier to see how the strings are manipulated\n",
    "def remove_punctuation(value):\n",
    "    return re.sub('[!#?]', '', value)\n",
    "\n",
    "clean_ops = [str.strip, remove_punctuation, str.title]\n",
    "\n",
    "def clean_strings(strings, ops):\n",
    "    result = []\n",
    "    for value in strings:\n",
    "        for function in ops:\n",
    "            value = function(value)\n",
    "        result.append(value)\n",
    "    return result\n",
    "\n",
    "clean_strings(states, clean_ops)"
   ]
  },
  {
   "cell_type": "code",
   "execution_count": 78,
   "metadata": {},
   "outputs": [
    {
     "name": "stdout",
     "output_type": "stream",
     "text": [
      " Alabama \n",
      "Georgia\n",
      "Georgia\n",
      "georgia\n",
      "FlOrIda\n",
      "south carolina\n",
      "West virginia\n"
     ]
    }
   ],
   "source": [
    "for x in map(remove_punctuation, states):\n",
    "    print(x)"
   ]
  },
  {
   "cell_type": "markdown",
   "metadata": {},
   "source": [
    "# Lambda Functions"
   ]
  },
  {
   "cell_type": "code",
   "execution_count": 83,
   "metadata": {},
   "outputs": [
    {
     "data": {
      "text/plain": [
       "['aaaa', 'foo', 'abab', 'bar', 'card']"
      ]
     },
     "execution_count": 83,
     "metadata": {},
     "output_type": "execute_result"
    }
   ],
   "source": [
    "strings = ['foo', 'card', 'bar', 'aaaa', 'abab']\n",
    "strings.sort(key=lambda x: len(set(list(x)))) #list splits, set finds distinct\n",
    "strings"
   ]
  },
  {
   "cell_type": "markdown",
   "metadata": {},
   "source": [
    "## Currying\n",
    "deriving functions from other functions"
   ]
  },
  {
   "cell_type": "code",
   "execution_count": 86,
   "metadata": {},
   "outputs": [],
   "source": [
    "def add_numbers(x, y):\n",
    "    return x + y\n",
    "add_five = lambda y: add_numbers(5,y) #2nd var y is said to be curried.\n",
    "\n",
    "\n",
    "from functools import partial\n",
    "add_five = partial(add_numbers, 5)"
   ]
  },
  {
   "cell_type": "markdown",
   "metadata": {},
   "source": [
    "## Generators\n",
    "A generator is a concise way to construct a new iterable object.\n",
    "\n",
    "When would you need a generator?"
   ]
  },
  {
   "cell_type": "code",
   "execution_count": 89,
   "metadata": {},
   "outputs": [
    {
     "data": {
      "text/plain": [
       "<generator object squares at 0x000001896C065A98>"
      ]
     },
     "execution_count": 89,
     "metadata": {},
     "output_type": "execute_result"
    }
   ],
   "source": [
    "def squares(n=10):\n",
    "    print('Generating squares from 1 to {0}'.format(n ** 2))\n",
    "    for i in range(1, n + 1):\n",
    "        yield i ** 2\n",
    "        \n",
    "#Only executes when you request elements from the generator\n",
    "gen = squares()\n",
    "gen\n"
   ]
  },
  {
   "cell_type": "code",
   "execution_count": 94,
   "metadata": {},
   "outputs": [],
   "source": [
    "for x in gen:\n",
    "    print(x, end=' ')"
   ]
  },
  {
   "cell_type": "markdown",
   "metadata": {},
   "source": [
    "## Itertools module\n",
    "The standard library itertools module has a collection of generators for many common\n",
    "data algorithms. For example, groupby takes any sequence and a function,\n",
    "grouping consecutive elements in the sequence by return value of the function. Here’s\n",
    "an example\n",
    "\n",
    "Check out more iterative tools"
   ]
  },
  {
   "cell_type": "code",
   "execution_count": 112,
   "metadata": {},
   "outputs": [
    {
     "name": "stdout",
     "output_type": "stream",
     "text": [
      "A ['Alan', 'Adam']\n",
      "W ['Wes', 'Will']\n",
      "A ['Albert']\n",
      "S ['Steven']\n"
     ]
    }
   ],
   "source": [
    "import itertools\n",
    "\n",
    "first_letter = lambda x: x[0]\n",
    "names = ['Alan', 'Adam', 'Wes', 'Will', 'Albert', 'Steven']\n",
    "\n",
    "#Takes in a seq & func to return a tuple, grouping using the result of the function\n",
    "for letter, names in itertools.groupby(names, first_letter): \n",
    "    print(letter, list(names)) # names is a generator"
   ]
  },
  {
   "cell_type": "code",
   "execution_count": 113,
   "metadata": {},
   "outputs": [],
   "source": [
    "# combinations(iterable, k) Generates a sequence of all possible k-tuples of elements in the iterable,\n",
    "# ignoring order and without replacement (see also the companion function\n",
    "# combinations_with_replacement)\n",
    "# permutations(iterable, k) Generates a sequence of all possible k-tuples of elements in the iterable,\n",
    "# respecting order\n",
    "# groupby(iterable[, keyfunc]) Generates (key, sub-iterator) for each unique key\n",
    "# product(*iterables, repeat=1) Generates the Cartesian product of the input iterables as tuples, similar to a\n",
    "# nested for loop"
   ]
  },
  {
   "cell_type": "markdown",
   "metadata": {},
   "source": [
    "## Error Handling\n",
    "\n",
    "Keep track of the different kinds of erros you come across"
   ]
  },
  {
   "cell_type": "code",
   "execution_count": 115,
   "metadata": {},
   "outputs": [],
   "source": [
    "def attempt_float(x):\n",
    "    try:\n",
    "        return float(x)\n",
    "    except (TypeError, ValueError):\n",
    "        return x"
   ]
  },
  {
   "cell_type": "code",
   "execution_count": 119,
   "metadata": {},
   "outputs": [],
   "source": [
    "# #Dont supress exception but still want some code to be executed.\n",
    "\n",
    "# f = open(path, 'w')\n",
    "# try:\n",
    "#     write_to_file(f)\n",
    "# except:\n",
    "#     print('Failed')\n",
    "# else:\n",
    "#     print('Succeeded')\n",
    "# finally:\n",
    "#     f.close() # f will ALWAYS close\n",
    "    \n"
   ]
  },
  {
   "cell_type": "markdown",
   "metadata": {},
   "source": [
    "## Files & Operating Systems"
   ]
  },
  {
   "cell_type": "code",
   "execution_count": 121,
   "metadata": {},
   "outputs": [],
   "source": [
    "# path = 'examples/segismundo.txt'\n",
    "# f = open(path)\n",
    "\n",
    "# for line in f: # Iterable\n",
    "#     pass\n",
    "\n",
    "# lines = [x.rstrip() for x in open(path)] #There will be EOL markers \n",
    "\n",
    "# # ['Sueña el rico en su riqueza,',\n",
    "# # 'que más cuidados le ofrece;',]\n",
    "\n",
    "# f.close() #Important to close file to release resources\n"
   ]
  },
  {
   "cell_type": "code",
   "execution_count": 122,
   "metadata": {},
   "outputs": [],
   "source": [
    "# #Use this instead as it auto closes the file\n",
    "# with open(path) as f:\n",
    "#     lines = [x.rstrip() for x in f]\n",
    "    \n"
   ]
  },
  {
   "cell_type": "markdown",
   "metadata": {},
   "source": [
    "# Chapter 5: Getting Started with Pandas"
   ]
  },
  {
   "cell_type": "markdown",
   "metadata": {},
   "source": [
    "## Intro to pandas Data Structures\n",
    "\n",
    "pandas good for tabular or heterogeneous data.\n",
    "NumPy best homogeneous numerical array data."
   ]
  },
  {
   "cell_type": "markdown",
   "metadata": {},
   "source": [
    "## Series"
   ]
  },
  {
   "cell_type": "code",
   "execution_count": 129,
   "metadata": {},
   "outputs": [
    {
     "data": {
      "text/plain": [
       "1"
      ]
     },
     "execution_count": 129,
     "metadata": {},
     "output_type": "execute_result"
    }
   ],
   "source": [
    "import pandas as pd\n",
    "obj = pd.Series([1,2,3,4],index = ['a','b','c','d'])\n",
    "obj['a'] #Can use index as locator"
   ]
  },
  {
   "cell_type": "code",
   "execution_count": 130,
   "metadata": {},
   "outputs": [
    {
     "data": {
      "text/plain": [
       "True"
      ]
     },
     "execution_count": 130,
     "metadata": {},
     "output_type": "execute_result"
    }
   ],
   "source": [
    "#checking index\n",
    "'b' in obj"
   ]
  },
  {
   "cell_type": "code",
   "execution_count": 136,
   "metadata": {},
   "outputs": [
    {
     "data": {
      "text/plain": [
       "Ohio      35000\n",
       "Texas     71000\n",
       "Oregon    16000\n",
       "Utah       5000\n",
       "dtype: int64"
      ]
     },
     "execution_count": 136,
     "metadata": {},
     "output_type": "execute_result"
    }
   ],
   "source": [
    "#Dict to Series\n",
    "sdata = {'Ohio': 35000, 'Texas': 71000, 'Oregon': 16000, 'Utah': 5000}\n",
    "obj3 = pd.Series(sdata)\n",
    "obj3"
   ]
  },
  {
   "cell_type": "code",
   "execution_count": 140,
   "metadata": {},
   "outputs": [
    {
     "data": {
      "text/plain": [
       "California     True\n",
       "Ohio          False\n",
       "Oregon        False\n",
       "Texas         False\n",
       "dtype: bool"
      ]
     },
     "execution_count": 140,
     "metadata": {},
     "output_type": "execute_result"
    }
   ],
   "source": [
    "states = ['California', 'Ohio', 'Oregon', 'Texas']\n",
    "obj4 = pd.Series(sdata, index=states)\n",
    "#Detecting null objects\n",
    "pd.isnull(obj4)\n",
    "pd.notnull(obj4)\n",
    "obj4.isnull() #instance method"
   ]
  },
  {
   "cell_type": "code",
   "execution_count": 142,
   "metadata": {},
   "outputs": [
    {
     "data": {
      "text/plain": [
       "California         NaN\n",
       "Ohio           70000.0\n",
       "Oregon         32000.0\n",
       "Texas         142000.0\n",
       "Utah               NaN\n",
       "dtype: float64"
      ]
     },
     "execution_count": 142,
     "metadata": {},
     "output_type": "execute_result"
    }
   ],
   "source": [
    "obj3 + obj4 #Join"
   ]
  },
  {
   "cell_type": "code",
   "execution_count": 143,
   "metadata": {},
   "outputs": [
    {
     "data": {
      "text/plain": [
       "state\n",
       "California        NaN\n",
       "Ohio          35000.0\n",
       "Oregon        16000.0\n",
       "Texas         71000.0\n",
       "Name: population, dtype: float64"
      ]
     },
     "execution_count": 143,
     "metadata": {},
     "output_type": "execute_result"
    }
   ],
   "source": [
    "obj4.name = 'population'\n",
    "obj4.index.name = 'state'\n",
    "obj4"
   ]
  },
  {
   "cell_type": "markdown",
   "metadata": {},
   "source": [
    "## Dataframes"
   ]
  },
  {
   "cell_type": "code",
   "execution_count": null,
   "metadata": {},
   "outputs": [],
   "source": [
    "#del to remove col\n"
   ]
  }
 ],
 "metadata": {
  "kernelspec": {
   "display_name": "Python 3 (ipykernel)",
   "language": "python",
   "name": "python3"
  },
  "language_info": {
   "codemirror_mode": {
    "name": "ipython",
    "version": 3
   },
   "file_extension": ".py",
   "mimetype": "text/x-python",
   "name": "python",
   "nbconvert_exporter": "python",
   "pygments_lexer": "ipython3",
   "version": "3.7.1"
  }
 },
 "nbformat": 4,
 "nbformat_minor": 4
}
