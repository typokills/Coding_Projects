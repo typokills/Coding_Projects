{
 "cells": [
  {
   "cell_type": "code",
   "execution_count": 1,
   "id": "3e78be1a",
   "metadata": {},
   "outputs": [
    {
     "data": {
      "text/html": [
       "        <script type=\"text/javascript\">\n",
       "        window.PlotlyConfig = {MathJaxConfig: 'local'};\n",
       "        if (window.MathJax && window.MathJax.Hub && window.MathJax.Hub.Config) {window.MathJax.Hub.Config({SVG: {font: \"STIX-Web\"}});}\n",
       "        if (typeof require !== 'undefined') {\n",
       "        require.undef(\"plotly\");\n",
       "        requirejs.config({\n",
       "            paths: {\n",
       "                'plotly': ['https://cdn.plot.ly/plotly-2.16.1.min']\n",
       "            }\n",
       "        });\n",
       "        require(['plotly'], function(Plotly) {\n",
       "            window._Plotly = Plotly;\n",
       "        });\n",
       "        }\n",
       "        </script>\n",
       "        "
      ]
     },
     "metadata": {},
     "output_type": "display_data"
    }
   ],
   "source": [
    "import pandas as pd\n",
    "import numpy as np\n",
    "import datetime\n",
    "import plotly.express as px\n",
    "import yfinance as yf\n",
    "# import pandas_market_calendars as mcal\n",
    "from plotly.offline import init_notebook_mode, plot\n",
    "init_notebook_mode(connected=True)"
   ]
  },
  {
   "cell_type": "markdown",
   "id": "c016bcd4",
   "metadata": {},
   "source": [
    "# Performance Calculation"
   ]
  },
  {
   "cell_type": "code",
   "execution_count": 2,
   "id": "22610178",
   "metadata": {},
   "outputs": [
    {
     "data": {
      "text/html": [
       "<div>\n",
       "<style scoped>\n",
       "    .dataframe tbody tr th:only-of-type {\n",
       "        vertical-align: middle;\n",
       "    }\n",
       "\n",
       "    .dataframe tbody tr th {\n",
       "        vertical-align: top;\n",
       "    }\n",
       "\n",
       "    .dataframe thead th {\n",
       "        text-align: right;\n",
       "    }\n",
       "</style>\n",
       "<table border=\"1\" class=\"dataframe\">\n",
       "  <thead>\n",
       "    <tr style=\"text-align: right;\">\n",
       "      <th></th>\n",
       "      <th>QQQ</th>\n",
       "      <th>SPY</th>\n",
       "      <th>AAPL</th>\n",
       "      <th>DJI</th>\n",
       "    </tr>\n",
       "  </thead>\n",
       "  <tbody>\n",
       "    <tr>\n",
       "      <th>2022-01-01</th>\n",
       "      <td>0.25</td>\n",
       "      <td>0.25</td>\n",
       "      <td>0.25</td>\n",
       "      <td>0.25</td>\n",
       "    </tr>\n",
       "    <tr>\n",
       "      <th>2022-01-02</th>\n",
       "      <td>0.25</td>\n",
       "      <td>0.25</td>\n",
       "      <td>0.25</td>\n",
       "      <td>0.25</td>\n",
       "    </tr>\n",
       "    <tr>\n",
       "      <th>2022-01-03</th>\n",
       "      <td>0.25</td>\n",
       "      <td>0.25</td>\n",
       "      <td>0.25</td>\n",
       "      <td>0.25</td>\n",
       "    </tr>\n",
       "    <tr>\n",
       "      <th>2022-01-04</th>\n",
       "      <td>0.25</td>\n",
       "      <td>0.25</td>\n",
       "      <td>0.25</td>\n",
       "      <td>0.25</td>\n",
       "    </tr>\n",
       "  </tbody>\n",
       "</table>\n",
       "</div>"
      ],
      "text/plain": [
       "             QQQ   SPY  AAPL   DJI\n",
       "2022-01-01  0.25  0.25  0.25  0.25\n",
       "2022-01-02  0.25  0.25  0.25  0.25\n",
       "2022-01-03  0.25  0.25  0.25  0.25\n",
       "2022-01-04  0.25  0.25  0.25  0.25"
      ]
     },
     "execution_count": 2,
     "metadata": {},
     "output_type": "execute_result"
    }
   ],
   "source": [
    "df_weight = pd.read_excel(r'C:\\Users\\chins\\Downloads\\Finance_Test_File.xlsx')\n",
    "df_weight.set_index('Date',inplace=True)\n",
    "\n",
    "start_date = min(df_weight.index.strftime('%Y-%m-%d'))\n",
    "end_date = max(df_weight.index.strftime('%Y-%m-%d'))\n",
    "time_period = pd.date_range(start_date,end_date)\n",
    "\n",
    "df_weight = df_weight.reindex(time_period,method='nearest')\n",
    "df_weight.head()"
   ]
  },
  {
   "cell_type": "code",
   "execution_count": 3,
   "id": "955ce43f",
   "metadata": {},
   "outputs": [
    {
     "name": "stdout",
     "output_type": "stream",
     "text": [
      "[*********************100%***********************]  4 of 4 completed\n"
     ]
    },
    {
     "data": {
      "text/html": [
       "<div>\n",
       "<style scoped>\n",
       "    .dataframe tbody tr th:only-of-type {\n",
       "        vertical-align: middle;\n",
       "    }\n",
       "\n",
       "    .dataframe tbody tr th {\n",
       "        vertical-align: top;\n",
       "    }\n",
       "\n",
       "    .dataframe thead th {\n",
       "        text-align: right;\n",
       "    }\n",
       "</style>\n",
       "<table border=\"1\" class=\"dataframe\">\n",
       "  <thead>\n",
       "    <tr style=\"text-align: right;\">\n",
       "      <th></th>\n",
       "      <th>AAPL</th>\n",
       "      <th>DJI</th>\n",
       "      <th>QQQ</th>\n",
       "      <th>SPY</th>\n",
       "    </tr>\n",
       "  </thead>\n",
       "  <tbody>\n",
       "    <tr>\n",
       "      <th>2022-01-01</th>\n",
       "      <td>180.959732</td>\n",
       "      <td>36585.101562</td>\n",
       "      <td>399.696045</td>\n",
       "      <td>472.242310</td>\n",
       "    </tr>\n",
       "    <tr>\n",
       "      <th>2022-01-02</th>\n",
       "      <td>180.959732</td>\n",
       "      <td>36585.101562</td>\n",
       "      <td>399.696045</td>\n",
       "      <td>472.242310</td>\n",
       "    </tr>\n",
       "    <tr>\n",
       "      <th>2022-01-03</th>\n",
       "      <td>180.959732</td>\n",
       "      <td>36585.101562</td>\n",
       "      <td>399.696045</td>\n",
       "      <td>472.242310</td>\n",
       "    </tr>\n",
       "    <tr>\n",
       "      <th>2022-01-04</th>\n",
       "      <td>178.663086</td>\n",
       "      <td>36799.699219</td>\n",
       "      <td>394.511749</td>\n",
       "      <td>472.084137</td>\n",
       "    </tr>\n",
       "    <tr>\n",
       "      <th>2022-01-05</th>\n",
       "      <td>173.910660</td>\n",
       "      <td>36407.101562</td>\n",
       "      <td>382.391937</td>\n",
       "      <td>463.019104</td>\n",
       "    </tr>\n",
       "  </tbody>\n",
       "</table>\n",
       "</div>"
      ],
      "text/plain": [
       "                  AAPL           DJI         QQQ         SPY\n",
       "2022-01-01  180.959732  36585.101562  399.696045  472.242310\n",
       "2022-01-02  180.959732  36585.101562  399.696045  472.242310\n",
       "2022-01-03  180.959732  36585.101562  399.696045  472.242310\n",
       "2022-01-04  178.663086  36799.699219  394.511749  472.084137\n",
       "2022-01-05  173.910660  36407.101562  382.391937  463.019104"
      ]
     },
     "execution_count": 3,
     "metadata": {},
     "output_type": "execute_result"
    }
   ],
   "source": [
    "def get_data(stocks, start, end, field):\n",
    "    df = yf.download(stocks, start=start, end=end)\n",
    "    time_period = pd.date_range(start,end)\n",
    "    df = df.reindex(time_period,method = 'nearest')\n",
    "    output = df[field]\n",
    "    return(output)\n",
    "\n",
    "lst_tickers = df_weight.columns.values.tolist()\n",
    "\n",
    "price_data = get_data(lst_tickers,'2022-01-01','2022-11-30','Adj Close')\n",
    "price_data.head()"
   ]
  },
  {
   "cell_type": "code",
   "execution_count": 4,
   "id": "eb5682c9",
   "metadata": {},
   "outputs": [
    {
     "data": {
      "text/html": [
       "<div>\n",
       "<style scoped>\n",
       "    .dataframe tbody tr th:only-of-type {\n",
       "        vertical-align: middle;\n",
       "    }\n",
       "\n",
       "    .dataframe tbody tr th {\n",
       "        vertical-align: top;\n",
       "    }\n",
       "\n",
       "    .dataframe thead th {\n",
       "        text-align: right;\n",
       "    }\n",
       "</style>\n",
       "<table border=\"1\" class=\"dataframe\">\n",
       "  <thead>\n",
       "    <tr style=\"text-align: right;\">\n",
       "      <th></th>\n",
       "      <th>AAPL</th>\n",
       "      <th>DJI</th>\n",
       "      <th>QQQ</th>\n",
       "      <th>SPY</th>\n",
       "    </tr>\n",
       "  </thead>\n",
       "  <tbody>\n",
       "    <tr>\n",
       "      <th>2022-01-01</th>\n",
       "      <td>180.959732</td>\n",
       "      <td>36585.101562</td>\n",
       "      <td>399.696045</td>\n",
       "      <td>472.242310</td>\n",
       "    </tr>\n",
       "    <tr>\n",
       "      <th>2022-01-02</th>\n",
       "      <td>180.959732</td>\n",
       "      <td>36585.101562</td>\n",
       "      <td>399.696045</td>\n",
       "      <td>472.242310</td>\n",
       "    </tr>\n",
       "    <tr>\n",
       "      <th>2022-01-03</th>\n",
       "      <td>180.959732</td>\n",
       "      <td>36585.101562</td>\n",
       "      <td>399.696045</td>\n",
       "      <td>472.242310</td>\n",
       "    </tr>\n",
       "    <tr>\n",
       "      <th>2022-01-04</th>\n",
       "      <td>178.663086</td>\n",
       "      <td>36799.699219</td>\n",
       "      <td>394.511749</td>\n",
       "      <td>472.084137</td>\n",
       "    </tr>\n",
       "  </tbody>\n",
       "</table>\n",
       "</div>"
      ],
      "text/plain": [
       "                  AAPL           DJI         QQQ         SPY\n",
       "2022-01-01  180.959732  36585.101562  399.696045  472.242310\n",
       "2022-01-02  180.959732  36585.101562  399.696045  472.242310\n",
       "2022-01-03  180.959732  36585.101562  399.696045  472.242310\n",
       "2022-01-04  178.663086  36799.699219  394.511749  472.084137"
      ]
     },
     "execution_count": 4,
     "metadata": {},
     "output_type": "execute_result"
    }
   ],
   "source": [
    "df_period = price_data.loc[start_date:end_date,:]\n",
    "df_period.head()"
   ]
  },
  {
   "cell_type": "code",
   "execution_count": 5,
   "id": "3d2a768d",
   "metadata": {},
   "outputs": [
    {
     "data": {
      "text/html": [
       "<div>\n",
       "<style scoped>\n",
       "    .dataframe tbody tr th:only-of-type {\n",
       "        vertical-align: middle;\n",
       "    }\n",
       "\n",
       "    .dataframe tbody tr th {\n",
       "        vertical-align: top;\n",
       "    }\n",
       "\n",
       "    .dataframe thead th {\n",
       "        text-align: right;\n",
       "    }\n",
       "</style>\n",
       "<table border=\"1\" class=\"dataframe\">\n",
       "  <thead>\n",
       "    <tr style=\"text-align: right;\">\n",
       "      <th></th>\n",
       "      <th>AAPL</th>\n",
       "      <th>DJI</th>\n",
       "      <th>QQQ</th>\n",
       "      <th>SPY</th>\n",
       "    </tr>\n",
       "  </thead>\n",
       "  <tbody>\n",
       "    <tr>\n",
       "      <th>2022-01-01</th>\n",
       "      <td>1.000000</td>\n",
       "      <td>1.000000</td>\n",
       "      <td>1.000000</td>\n",
       "      <td>1.000000</td>\n",
       "    </tr>\n",
       "    <tr>\n",
       "      <th>2022-01-02</th>\n",
       "      <td>1.000000</td>\n",
       "      <td>1.000000</td>\n",
       "      <td>1.000000</td>\n",
       "      <td>1.000000</td>\n",
       "    </tr>\n",
       "    <tr>\n",
       "      <th>2022-01-03</th>\n",
       "      <td>1.000000</td>\n",
       "      <td>1.000000</td>\n",
       "      <td>1.000000</td>\n",
       "      <td>1.000000</td>\n",
       "    </tr>\n",
       "    <tr>\n",
       "      <th>2022-01-04</th>\n",
       "      <td>0.987309</td>\n",
       "      <td>1.005866</td>\n",
       "      <td>0.987029</td>\n",
       "      <td>0.999665</td>\n",
       "    </tr>\n",
       "  </tbody>\n",
       "</table>\n",
       "</div>"
      ],
      "text/plain": [
       "                AAPL       DJI       QQQ       SPY\n",
       "2022-01-01  1.000000  1.000000  1.000000  1.000000\n",
       "2022-01-02  1.000000  1.000000  1.000000  1.000000\n",
       "2022-01-03  1.000000  1.000000  1.000000  1.000000\n",
       "2022-01-04  0.987309  1.005866  0.987029  0.999665"
      ]
     },
     "execution_count": 5,
     "metadata": {},
     "output_type": "execute_result"
    }
   ],
   "source": [
    "df_norm = df_period / df_period.iloc[0]\n",
    "df_norm.head()"
   ]
  },
  {
   "cell_type": "code",
   "execution_count": 15,
   "id": "22c51a9c",
   "metadata": {},
   "outputs": [
    {
     "data": {
      "text/html": [
       "<div>\n",
       "<style scoped>\n",
       "    .dataframe tbody tr th:only-of-type {\n",
       "        vertical-align: middle;\n",
       "    }\n",
       "\n",
       "    .dataframe tbody tr th {\n",
       "        vertical-align: top;\n",
       "    }\n",
       "\n",
       "    .dataframe thead th {\n",
       "        text-align: right;\n",
       "    }\n",
       "</style>\n",
       "<table border=\"1\" class=\"dataframe\">\n",
       "  <thead>\n",
       "    <tr style=\"text-align: right;\">\n",
       "      <th></th>\n",
       "      <th>AAPL</th>\n",
       "      <th>DJI</th>\n",
       "      <th>QQQ</th>\n",
       "      <th>SPY</th>\n",
       "      <th>Total</th>\n",
       "    </tr>\n",
       "  </thead>\n",
       "  <tbody>\n",
       "    <tr>\n",
       "      <th>2022-01-01</th>\n",
       "      <td>0.250000</td>\n",
       "      <td>0.250000</td>\n",
       "      <td>0.250000</td>\n",
       "      <td>0.250000</td>\n",
       "      <td>1.000000</td>\n",
       "    </tr>\n",
       "    <tr>\n",
       "      <th>2022-01-02</th>\n",
       "      <td>0.250000</td>\n",
       "      <td>0.250000</td>\n",
       "      <td>0.250000</td>\n",
       "      <td>0.250000</td>\n",
       "      <td>1.000000</td>\n",
       "    </tr>\n",
       "    <tr>\n",
       "      <th>2022-01-03</th>\n",
       "      <td>0.250000</td>\n",
       "      <td>0.250000</td>\n",
       "      <td>0.250000</td>\n",
       "      <td>0.250000</td>\n",
       "      <td>1.000000</td>\n",
       "    </tr>\n",
       "    <tr>\n",
       "      <th>2022-01-04</th>\n",
       "      <td>0.246827</td>\n",
       "      <td>0.251466</td>\n",
       "      <td>0.246757</td>\n",
       "      <td>0.249916</td>\n",
       "      <td>0.994967</td>\n",
       "    </tr>\n",
       "  </tbody>\n",
       "</table>\n",
       "</div>"
      ],
      "text/plain": [
       "                AAPL       DJI       QQQ       SPY     Total\n",
       "2022-01-01  0.250000  0.250000  0.250000  0.250000  1.000000\n",
       "2022-01-02  0.250000  0.250000  0.250000  0.250000  1.000000\n",
       "2022-01-03  0.250000  0.250000  0.250000  0.250000  1.000000\n",
       "2022-01-04  0.246827  0.251466  0.246757  0.249916  0.994967"
      ]
     },
     "execution_count": 15,
     "metadata": {},
     "output_type": "execute_result"
    }
   ],
   "source": [
    "df_total = df_norm * df_weight\n",
    "df_total['Total'] = df_total.sum(axis = 1)\n",
    "df_total"
   ]
  },
  {
   "cell_type": "code",
   "execution_count": null,
   "id": "0eafb481",
   "metadata": {},
   "outputs": [],
   "source": []
  },
  {
   "cell_type": "code",
   "execution_count": null,
   "id": "85196169",
   "metadata": {},
   "outputs": [],
   "source": []
  },
  {
   "cell_type": "code",
   "execution_count": 10,
   "id": "ff1081d0",
   "metadata": {},
   "outputs": [
    {
     "data": {
      "text/plain": [
       "0   -4\n",
       "1    5\n",
       "dtype: int64"
      ]
     },
     "execution_count": 10,
     "metadata": {},
     "output_type": "execute_result"
    }
   ],
   "source": [
    "df = pd.DataFrame([[0, 1, -2, -1], [1, 1, 1, 1]])\n",
    "s = pd.Series([1, 1, 2, 1])\n",
    "df.dot(s)"
   ]
  },
  {
   "cell_type": "code",
   "execution_count": 11,
   "id": "b1bcd75a",
   "metadata": {},
   "outputs": [
    {
     "data": {
      "text/plain": [
       "array([[ 0,  1, -2, -1],\n",
       "       [ 1,  1,  1,  1]], dtype=int64)"
      ]
     },
     "execution_count": 11,
     "metadata": {},
     "output_type": "execute_result"
    }
   ],
   "source": [
    "df.values"
   ]
  },
  {
   "cell_type": "code",
   "execution_count": null,
   "id": "b0658f65",
   "metadata": {},
   "outputs": [],
   "source": [
    "\n",
    "time_period = pd.date_range('2022-01-01','2022-11-30')\n",
    "price_data = price_data.reindex(time_period, fill_value = 0)\n",
    "price_data.head()\n"
   ]
  },
  {
   "cell_type": "code",
   "execution_count": null,
   "id": "bef0ba37",
   "metadata": {},
   "outputs": [],
   "source": []
  },
  {
   "cell_type": "code",
   "execution_count": null,
   "id": "b4f98c4c",
   "metadata": {},
   "outputs": [],
   "source": []
  },
  {
   "cell_type": "code",
   "execution_count": null,
   "id": "c0083723",
   "metadata": {},
   "outputs": [],
   "source": []
  },
  {
   "cell_type": "code",
   "execution_count": null,
   "id": "11d18f84",
   "metadata": {},
   "outputs": [],
   "source": []
  },
  {
   "cell_type": "code",
   "execution_count": null,
   "id": "c1614e6b",
   "metadata": {},
   "outputs": [],
   "source": []
  },
  {
   "cell_type": "code",
   "execution_count": null,
   "id": "b3a2ab77",
   "metadata": {},
   "outputs": [],
   "source": []
  },
  {
   "cell_type": "code",
   "execution_count": null,
   "id": "611dbfc3",
   "metadata": {},
   "outputs": [],
   "source": [
    "def get_data(stocks, start, end, field):\n",
    "    df = yf.download(stocks, start=start, end=end)\n",
    "    output = df[field]\n",
    "    return(output)\n",
    "\n",
    "stock_list = ['QQQ','SPY','M44U.SI']\n",
    "lst_weights = [,0.25,0.25,0.5]\n",
    "\n",
    "get_data(stock_list,'2022-01-01','2022-11-11','Adj Close')"
   ]
  },
  {
   "cell_type": "code",
   "execution_count": null,
   "id": "b43de9e9",
   "metadata": {},
   "outputs": [],
   "source": [
    "price_data = get_data(stock_list,'2022-01-01','2022-11-11','Adj Close') \n",
    "price_data = price_data / price_data.iloc[0,:]\n",
    "price_data.tail()\n"
   ]
  },
  {
   "cell_type": "code",
   "execution_count": null,
   "id": "21dd5fcb",
   "metadata": {},
   "outputs": [],
   "source": [
    "price_data.std()"
   ]
  },
  {
   "cell_type": "code",
   "execution_count": null,
   "id": "8ab0a237",
   "metadata": {},
   "outputs": [],
   "source": [
    "weighted_risk = price_data.std() * lst_weights\n",
    "print(\"{:.2%}\".format(weighted_risk.sum()))"
   ]
  },
  {
   "cell_type": "code",
   "execution_count": null,
   "id": "a3f057c8",
   "metadata": {},
   "outputs": [],
   "source": [
    "def create_market_cal(start, end):\n",
    "    nyse = mcal.get_calendar('NYSE')\n",
    "    schedule = nyse.schedule(stocks_start, stocks_end)\n",
    "    market_cal = mcal.date_range(schedule, frequency='1D')\n",
    "    market_cal = market_cal.tz_localize(None)\n",
    "    market_cal = [i.replace(hour=0) for i in market_cal]\n",
    "    return market_cal\n",
    "\n",
    "\n",
    "def get_benchmark(benchmark, start, end):\n",
    "    benchmark = get_data(benchmark, start, end)\n",
    "    benchmark = benchmark.drop(['symbol'], axis=1)\n",
    "    benchmark.reset_index(inplace=True)\n",
    "    return benchmark"
   ]
  },
  {
   "cell_type": "code",
   "execution_count": null,
   "id": "8fe31fe1",
   "metadata": {},
   "outputs": [],
   "source": [
    "import yfinance as yf\n",
    "stock_list = ['QQQ','SPY','M44U.SI']\n",
    "data = yf.download(stock_list, start=\"2022-01-01\", end=\"2022-11-11\")\n",
    "\n",
    "data['Adj Close']"
   ]
  },
  {
   "cell_type": "code",
   "execution_count": null,
   "id": "f9f256a3",
   "metadata": {},
   "outputs": [],
   "source": [
    "import requests\n",
    "from bs4 import BeautifulSoup"
   ]
  },
  {
   "cell_type": "code",
   "execution_count": null,
   "id": "db043de8",
   "metadata": {},
   "outputs": [],
   "source": [
    "import requests\n",
    "import re\n",
    "\n",
    "keys = ['XLU', 'XLRE']\n",
    "\n",
    "\n",
    "headers = {\n",
    "    \"User-Agent\": \"Mozilla/5.0 (Windows NT 10.0; Win64; x64; rv:83.0) Gecko/20100101 Firefox/83.0\"\n",
    "}\n",
    "\n",
    "\n",
    "def main(url):\n",
    "    with requests.Session() as req:\n",
    "        req.headers.update(headers)\n",
    "        for key in keys:\n",
    "            r = req.get(url.format(key))\n",
    "            print(f\"Extracting: {r.url}\")\n",
    "            goal = re.findall(r'etf\\\\\\/(.*?)\\\\', r.text)\n",
    "            print(goal)\n",
    "\n",
    "\n",
    "main(\"https://www.zacks.com/funds/etf/{}/holding\")"
   ]
  },
  {
   "cell_type": "code",
   "execution_count": null,
   "id": "773f4cd0",
   "metadata": {},
   "outputs": [],
   "source": []
  },
  {
   "cell_type": "code",
   "execution_count": null,
   "id": "5e35188b",
   "metadata": {},
   "outputs": [],
   "source": []
  },
  {
   "cell_type": "code",
   "execution_count": null,
   "id": "f6a927fc",
   "metadata": {},
   "outputs": [],
   "source": [
    "from yahooquery import Ticker\n",
    "\n",
    "ticker_name = 'INDA US Equity'\n",
    "ticker = ticker_name[:-10]\n",
    "\n",
    "t = Ticker(ticker_name)\n",
    "\n",
    "# sector weightings, returns pandas DataFrame\n",
    "sector_dict_list = t.fund_sector_weightings[ticker]['sectorWeightings']\n",
    "dict_sector = {}\n",
    "for d in sector_dict_list:\n",
    "    dict_sector.update(d)\n",
    "\n",
    "df_sector = pd.DataFrame(dict_sector.items(), \n",
    "                         columns=['Sector', 'Weight'])\\\n",
    "                        .sort_values('Weight',\n",
    "                         ascending = False)\n",
    "df_sector['Weight'] = df_sector['Weight']\n",
    "df_sector=df_sector.set_index('Sector')\n",
    "# df_sector\n",
    "\n",
    "fig = px.bar(df_sector, \n",
    "             x=df_sector.index, y='Weight',\n",
    "             color='Weight',\n",
    "             hover_data=[df_sector.index, 'Weight'],\n",
    "             height=400,\n",
    "             title = ticker_name + ' SECTOR BREAKDOWN',\n",
    "#              text = 'Weight'\n",
    "            )\n",
    "fig.show()"
   ]
  },
  {
   "cell_type": "code",
   "execution_count": null,
   "id": "bcabeed1",
   "metadata": {},
   "outputs": [],
   "source": [
    "#- How many assests to include in each portfolio\n",
    "n_assets = 5\n",
    "#-- How many portfolios to generate\n",
    "n_portfolios = 1000\n",
    "\n",
    "#-- Initialize empty list to store mean-variance pairs for plotting\n",
    "mean_variance_pairs = []\n",
    "\n",
    "np.random.seed(75)\n",
    "#-- Loop through and generate lots of random portfolios\n",
    "for i in range(n_portfolios):\n",
    "    #- Choose assets randomly without replacement\n",
    "    assets = np.random.choice(list(daily_returns.columns), n_assets, replace=False)\n",
    "    #- Choose weights randomly\n",
    "    weights = np.random.rand(n_assets)\n",
    "    #- Ensure weights sum to 1\n",
    "    weights = weights/sum(weights)\n",
    "\n",
    "    #-- Loop over asset pairs and compute portfolio return and variance\n",
    "    #- https://quant.stackexchange.com/questions/43442/portfolio-variance-explanation-for-equation-investments-by-zvi-bodie\n",
    "    portfolio_E_Variance = 0\n",
    "    portfolio_E_Return = 0\n",
    "    for i in range(len(assets)):\n",
    "        portfolio_E_Return += weights[i] * mus.loc[assets[i]]\n",
    "        for j in range(len(assets)):\n",
    "            #-- Add variance/covariance for each asset pair\n",
    "            #- Note that when i==j this adds the variance\n",
    "            portfolio_E_Variance += weights[i] * weights[j] * cov.loc[assets[i], assets[j]]\n",
    "            \n",
    "    #-- Add the mean/variance pairs to a list for plotting\n",
    "    mean_variance_pairs.append([portfolio_E_Return, portfolio_E_Variance])"
   ]
  },
  {
   "cell_type": "code",
   "execution_count": null,
   "id": "4dd884c9",
   "metadata": {},
   "outputs": [],
   "source": [
    "\n",
    "#-- Plot the risk vs. return of randomly generated portfolios\n",
    "#- Convert the list from before into an array for easy plotting\n",
    "mean_variance_pairs = np.array(mean_variance_pairs)\n",
    "risk_free_rate=0 #-- Include risk free rate here for sharpe ratio\n",
    "\n",
    "#-- Create Plot\n",
    "fig = go.Figure()\n",
    "fig.add_trace(go.Scatter(x=mean_variance_pairs[:,1]**0.5, \n",
    "                         y=mean_variance_pairs[:,0], \n",
    "                      #- Add color scale for sharpe ratio   \n",
    "                      marker=dict(color=(mean_variance_pairs[:,0]-risk_free_rate)/(mean_variance_pairs[:,1]**0.5), \n",
    "                                  showscale=True, \n",
    "                                  size=7,\n",
    "                                  line=dict(width=1),\n",
    "                                  colorscale=\"RdBu\",\n",
    "                                  colorbar=dict(title=\"Sharpe<br>Ratio\")\n",
    "                                 ), \n",
    "                      mode='markers'))\n",
    "#- Add title/labels\n",
    "fig.update_layout(template='plotly_white',\n",
    "                  xaxis=dict(title='Annualised Risk (Volatility)'),\n",
    "                  yaxis=dict(title='Annualised Return'),\n",
    "                  title='Sample of Random Portfolios',\n",
    "                  coloraxis_colorbar=dict(title=\"Sharpe Ratio\"))\n",
    "view rawplot_mv_simple.py hosted with ❤ by GitHub"
   ]
  },
  {
   "cell_type": "code",
   "execution_count": 9,
   "id": "40878d4b",
   "metadata": {},
   "outputs": [
    {
     "data": {
      "text/plain": [
       "0   -4\n",
       "1    5\n",
       "dtype: int64"
      ]
     },
     "execution_count": 9,
     "metadata": {},
     "output_type": "execute_result"
    }
   ],
   "source": []
  },
  {
   "cell_type": "code",
   "execution_count": null,
   "id": "732f97ab",
   "metadata": {},
   "outputs": [],
   "source": []
  },
  {
   "cell_type": "code",
   "execution_count": null,
   "id": "14eb3ba5",
   "metadata": {},
   "outputs": [],
   "source": []
  }
 ],
 "metadata": {
  "kernelspec": {
   "display_name": "Python 3 (ipykernel)",
   "language": "python",
   "name": "python3"
  },
  "language_info": {
   "codemirror_mode": {
    "name": "ipython",
    "version": 3
   },
   "file_extension": ".py",
   "mimetype": "text/x-python",
   "name": "python",
   "nbconvert_exporter": "python",
   "pygments_lexer": "ipython3",
   "version": "3.10.8"
  }
 },
 "nbformat": 4,
 "nbformat_minor": 5
}
